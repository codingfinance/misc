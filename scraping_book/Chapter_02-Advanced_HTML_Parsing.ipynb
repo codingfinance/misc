{
 "cells": [
  {
   "cell_type": "code",
   "execution_count": 1,
   "metadata": {},
   "outputs": [],
   "source": [
    "import requests\n",
    "from bs4 import BeautifulSoup\n"
   ]
  },
  {
   "cell_type": "code",
   "execution_count": 2,
   "metadata": {},
   "outputs": [],
   "source": [
    "html = requests.get(\"http://www.pythonscraping.com/pages/warandpeace.html\")\n",
    "\n",
    "soup = BeautifulSoup(html.text, 'lxml')"
   ]
  },
  {
   "cell_type": "code",
   "execution_count": 6,
   "metadata": {},
   "outputs": [
    {
     "data": {
      "text/plain": [
       "'<html>\\n<head>\\n<style>\\n.green{\\n\\tcolor:#55ff55;\\n}\\n.red{\\n\\tcolor:#ff5555;\\n}\\n#text{\\n\\twidth:50%;\\n}\\n</style>\\n</head>\\n<body>\\n<h1>War and Peace</h1>\\n<h2>Chapter 1</h2>\\n<div id=\"text\">\\n\"<span class=\"red\">Well, Prince, so Genoa and Lucca are now just family estates of the\\nBuonapartes. But I warn you, if you don\\'t tell me that this means war,\\nif you still try to defend the infamies and horrors perpetrated by\\nthat Antichrist- I really believe he is Antichrist- I will have\\nnothing more to do with you and you are no longer my friend, no longer\\nmy \\'faithful slave,\\' as you call yourself! But how do you do? I see\\nI have frightened you- sit down and tell me all the news.</span>\"\\n<p/>\\nIt was in July, 1805, and the speaker was the well-known <span class=\"green\">Anna\\nPavlovna Scherer</span>, maid of honor and favorite of the <span class=\"green\">Empress Marya\\nFedorovna</span>. With these words she greeted <span class=\"green\">Prince Vasili Kuragin</span>, a man\\nof high rank and importance, who was the first t'"
      ]
     },
     "execution_count": 6,
     "metadata": {},
     "output_type": "execute_result"
    }
   ],
   "source": [
    "html.text[:1000]"
   ]
  },
  {
   "cell_type": "markdown",
   "metadata": {},
   "source": [
    "Get the names of the characters. The have the following tag\n",
    "\n",
    "`<span class=\"green\">Anna Pavlovna Scherer</span>`"
   ]
  },
  {
   "cell_type": "code",
   "execution_count": 12,
   "metadata": {},
   "outputs": [
    {
     "data": {
      "text/plain": [
       "'Anna Pavlovna Scherer'"
      ]
     },
     "execution_count": 12,
     "metadata": {},
     "output_type": "execute_result"
    }
   ],
   "source": [
    "soup.find('span', {'class':'green'}).get_text().replace('\\n', ' ')"
   ]
  },
  {
   "cell_type": "markdown",
   "metadata": {},
   "source": [
    "Now we can get names of all the characters."
   ]
  },
  {
   "cell_type": "code",
   "execution_count": 13,
   "metadata": {},
   "outputs": [],
   "source": [
    "name_list = soup.find_all('span', {'class':'green'})"
   ]
  },
  {
   "cell_type": "code",
   "execution_count": 16,
   "metadata": {},
   "outputs": [
    {
     "data": {
      "text/plain": [
       "['Anna Pavlovna Scherer',\n",
       " 'Empress Marya Fedorovna',\n",
       " 'Prince Vasili Kuragin',\n",
       " 'Anna Pavlovna',\n",
       " 'St. Petersburg',\n",
       " 'the prince',\n",
       " 'Anna Pavlovna',\n",
       " 'Anna Pavlovna',\n",
       " 'the prince',\n",
       " 'the prince',\n",
       " 'the prince',\n",
       " 'Prince Vasili',\n",
       " 'Anna Pavlovna',\n",
       " 'Anna Pavlovna',\n",
       " 'the prince',\n",
       " 'Wintzingerode',\n",
       " 'King of Prussia',\n",
       " 'le Vicomte de Mortemart',\n",
       " 'Montmorencys',\n",
       " 'Rohans',\n",
       " 'Abbe Morio',\n",
       " 'the Emperor',\n",
       " 'the prince',\n",
       " 'Prince Vasili',\n",
       " 'Dowager Empress Marya Fedorovna',\n",
       " 'the baron',\n",
       " 'Anna Pavlovna',\n",
       " 'the Empress',\n",
       " 'the Empress',\n",
       " \"Anna Pavlovna's\",\n",
       " 'Her Majesty',\n",
       " 'Baron Funke',\n",
       " 'The prince',\n",
       " 'Anna Pavlovna',\n",
       " 'the Empress',\n",
       " 'The prince',\n",
       " 'Anatole',\n",
       " 'the prince',\n",
       " 'The prince',\n",
       " 'Anna Pavlovna',\n",
       " 'Anna Pavlovna']"
      ]
     },
     "execution_count": 16,
     "metadata": {},
     "output_type": "execute_result"
    }
   ],
   "source": [
    "[name.text.replace('\\n', ' ') for name in name_list]"
   ]
  },
  {
   "cell_type": "code",
   "execution_count": 18,
   "metadata": {},
   "outputs": [
    {
     "data": {
      "text/plain": [
       "[<h1>War and Peace</h1>, <h2>Chapter 1</h2>]"
      ]
     },
     "execution_count": 18,
     "metadata": {},
     "output_type": "execute_result"
    }
   ],
   "source": [
    "titles = soup.find_all(['h1', 'h2', 'h3','h4','h5','h6'])\n",
    "\n",
    "[title for title in titles]"
   ]
  },
  {
   "cell_type": "code",
   "execution_count": 21,
   "metadata": {
    "scrolled": false
   },
   "outputs": [
    {
     "data": {
      "text/plain": [
       "[<span class=\"red\">Well, Prince, so Genoa and Lucca are now just family estates of the\n",
       " Buonapartes. But I warn you, if you don't tell me that this means war,\n",
       " if you still try to defend the infamies and horrors perpetrated by\n",
       " that Antichrist- I really believe he is Antichrist- I will have\n",
       " nothing more to do with you and you are no longer my friend, no longer\n",
       " my 'faithful slave,' as you call yourself! But how do you do? I see\n",
       " I have frightened you- sit down and tell me all the news.</span>,\n",
       " <span class=\"green\">Anna\n",
       " Pavlovna Scherer</span>,\n",
       " <span class=\"green\">Empress Marya\n",
       " Fedorovna</span>,\n",
       " <span class=\"green\">Prince Vasili Kuragin</span>,\n",
       " <span class=\"green\">Anna Pavlovna</span>,\n",
       " <span class=\"green\">St. Petersburg</span>,\n",
       " <span class=\"red\">If you have nothing better to do, Count [or Prince], and if the\n",
       " prospect of spending an evening with a poor invalid is not too\n",
       " terrible, I shall be very charmed to see you tonight between 7 and 10-\n",
       " Annette Scherer.</span>,\n",
       " <span class=\"red\">Heavens! what a virulent attack!</span>,\n",
       " <span class=\"green\">the prince</span>,\n",
       " <span class=\"green\">Anna Pavlovna</span>,\n",
       " <span class=\"red\">First of all, dear friend, tell me how you are. Set your friend's\n",
       " mind at rest,</span>,\n",
       " <span class=\"red\">Can one be well while suffering morally? Can one be calm in times\n",
       " like these if one has any feeling?</span>,\n",
       " <span class=\"green\">Anna Pavlovna</span>,\n",
       " <span class=\"red\">You are\n",
       " staying the whole evening, I hope?</span>,\n",
       " <span class=\"red\">And the fete at the English ambassador's? Today is Wednesday. I\n",
       " must put in an appearance there,</span>,\n",
       " <span class=\"green\">the prince</span>,\n",
       " <span class=\"red\">My daughter is\n",
       " coming for me to take me there.</span>,\n",
       " <span class=\"red\">I thought today's fete had been canceled. I confess all these\n",
       " festivities and fireworks are becoming wearisome.</span>,\n",
       " <span class=\"red\">If they had known that you wished it, the entertainment would\n",
       " have been put off,</span>,\n",
       " <span class=\"green\">the prince</span>,\n",
       " <span class=\"red\">Don't tease! Well, and what has been decided about Novosiltsev's\n",
       " dispatch? You know everything.</span>,\n",
       " <span class=\"red\">What can one say about it?</span>,\n",
       " <span class=\"green\">the prince</span>,\n",
       " <span class=\"red\">What has been decided? They have decided that\n",
       " Buonaparte has burnt his boats, and I believe that we are ready to\n",
       " burn ours.</span>,\n",
       " <span class=\"green\">Prince Vasili</span>,\n",
       " <span class=\"green\">Anna Pavlovna</span>,\n",
       " <span class=\"green\">Anna Pavlovna</span>,\n",
       " <span class=\"red\">Oh, don't speak to me of Austria. Perhaps I don't understand\n",
       " things, but Austria never has wished, and does not wish, for war.\n",
       " She is betraying us! Russia alone must save Europe. Our gracious\n",
       " sovereign recognizes his high vocation and will be true to it. That is\n",
       " the one thing I have faith in! Our good and wonderful sovereign has to\n",
       " perform the noblest role on earth, and he is so virtuous and noble\n",
       " that God will not forsake him. He will fulfill his vocation and\n",
       " crush the hydra of revolution, which has become more terrible than\n",
       " ever in the person of this murderer and villain! We alone must\n",
       " avenge the blood of the just one.... Whom, I ask you, can we rely\n",
       " on?... England with her commercial spirit will not and cannot\n",
       " understand the Emperor Alexander's loftiness of soul. She has\n",
       " refused to evacuate Malta. She wanted to find, and still seeks, some\n",
       " secret motive in our actions. What answer did Novosiltsev get? None.\n",
       " The English have not understood and cannot understand the\n",
       " self-abnegation of our Emperor who wants nothing for himself, but only\n",
       " desires the good of mankind. And what have they promised? Nothing! And\n",
       " what little they have promised they will not perform! Prussia has\n",
       " always declared that Buonaparte is invincible, and that all Europe\n",
       " is powerless before him.... And I don't believe a word that Hardenburg\n",
       " says, or Haugwitz either. This famous Prussian neutrality is just a\n",
       " trap. I have faith only in God and the lofty destiny of our adored\n",
       " monarch. He will save Europe!</span>,\n",
       " <span class=\"red\">I think,</span>,\n",
       " <span class=\"green\">the prince</span>,\n",
       " <span class=\"red\">that if you had been\n",
       " sent instead of our dear <span class=\"green\">Wintzingerode</span> you would have captured the\n",
       " <span class=\"green\">King of Prussia</span>'s consent by assault. You are so eloquent. Will you\n",
       " give me a cup of tea?</span>,\n",
       " <span class=\"green\">Wintzingerode</span>,\n",
       " <span class=\"green\">King of Prussia</span>,\n",
       " <span class=\"red\">In a moment. A propos,</span>,\n",
       " <span class=\"red\">I am\n",
       " expecting two very interesting men tonight, <span class=\"green\">le Vicomte de Mortemart</span>,\n",
       " who is connected with the <span class=\"green\">Montmorencys</span> through the <span class=\"green\">Rohans</span>, one of\n",
       " the best French families. He is one of the genuine emigres, the good\n",
       " ones. And also the <span class=\"green\">Abbe Morio</span>. Do you know that profound thinker? He\n",
       " has been received by <span class=\"green\">the Emperor</span>. Had you heard?</span>,\n",
       " <span class=\"green\">le Vicomte de Mortemart</span>,\n",
       " <span class=\"green\">Montmorencys</span>,\n",
       " <span class=\"green\">Rohans</span>,\n",
       " <span class=\"green\">Abbe Morio</span>,\n",
       " <span class=\"green\">the Emperor</span>,\n",
       " <span class=\"red\">I shall be delighted to meet them,</span>,\n",
       " <span class=\"green\">the prince</span>,\n",
       " <span class=\"red\">But tell me,</span>,\n",
       " <span class=\"red\">is it true that the Dowager Empress wants Baron Funke\n",
       " to be appointed first secretary at Vienna? The baron by all accounts\n",
       " is a poor creature.</span>,\n",
       " <span class=\"green\">Prince Vasili</span>,\n",
       " <span class=\"green\">Dowager Empress Marya Fedorovna</span>,\n",
       " <span class=\"green\">the baron</span>,\n",
       " <span class=\"green\">Anna Pavlovna</span>,\n",
       " <span class=\"green\">the Empress</span>,\n",
       " <span class=\"red\">Baron Funke has been recommended to the Dowager Empress by her\n",
       " sister,</span>,\n",
       " <span class=\"green\">the Empress</span>,\n",
       " <span class=\"green\">Anna Pavlovna's</span>,\n",
       " <span class=\"green\">Her Majesty</span>,\n",
       " <span class=\"green\">Baron\n",
       " Funke</span>,\n",
       " <span class=\"green\">The prince</span>,\n",
       " <span class=\"green\">Anna\n",
       " Pavlovna</span>,\n",
       " <span class=\"green\">the Empress</span>,\n",
       " <span class=\"red\">Now about your family. Do you know that since your daughter came\n",
       " out everyone has been enraptured by her? They say she is amazingly\n",
       " beautiful.</span>,\n",
       " <span class=\"green\">The prince</span>,\n",
       " <span class=\"red\">I often think,</span>,\n",
       " <span class=\"red\">I often think how unfairly sometimes the\n",
       " joys of life are distributed. Why has fate given you two such splendid\n",
       " children? I don't speak of <span class=\"green\">Anatole</span>, your youngest. I don't like\n",
       " him,</span>,\n",
       " <span class=\"green\">Anatole</span>,\n",
       " <span class=\"red\">Two such charming children. And really you appreciate\n",
       " them less than anyone, and so you don't deserve to have them.</span>,\n",
       " <span class=\"red\">I can't help it,</span>,\n",
       " <span class=\"green\">the prince</span>,\n",
       " <span class=\"red\">Lavater would have said I\n",
       " lack the bump of paternity.</span>,\n",
       " <span class=\"red\">Don't joke; I mean to have a serious talk with you. Do you know I\n",
       " am dissatisfied with your younger son? Between ourselves</span>,\n",
       " <span class=\"red\">he was mentioned at Her\n",
       " Majesty's and you were pitied....</span>,\n",
       " <span class=\"green\">The prince</span>,\n",
       " <span class=\"red\">What would you have me do?</span>,\n",
       " <span class=\"red\">You know I did all\n",
       " a father could for their education, and they have both turned out\n",
       " fools. Hippolyte is at least a quiet fool, but Anatole is an active\n",
       " one. That is the only difference between them.</span>,\n",
       " <span class=\"red\">And why are children born to such men as you? If you were not a\n",
       " father there would be nothing I could reproach you with,</span>,\n",
       " <span class=\"green\">Anna\n",
       " Pavlovna</span>,\n",
       " <span class=\"red\">I am your faithful slave and to you alone I can confess that my\n",
       " children are the bane of my life. It is the cross I have to bear. That\n",
       " is how I explain it to myself. It can't be helped!</span>,\n",
       " <span class=\"green\">Anna Pavlovna</span>]"
      ]
     },
     "execution_count": 21,
     "metadata": {},
     "output_type": "execute_result"
    }
   ],
   "source": [
    "all_text = soup.find_all('span', {'class' : {'green', 'red'}})\n",
    "\n",
    "[text for text in all_text]"
   ]
  },
  {
   "cell_type": "markdown",
   "metadata": {},
   "source": [
    "Find out how many times the text `the prince` was mentioned."
   ]
  },
  {
   "cell_type": "code",
   "execution_count": 23,
   "metadata": {},
   "outputs": [
    {
     "data": {
      "text/plain": [
       "['the prince',\n",
       " 'the prince',\n",
       " 'the prince',\n",
       " 'the prince',\n",
       " 'the prince',\n",
       " 'the prince',\n",
       " 'the prince']"
      ]
     },
     "execution_count": 23,
     "metadata": {},
     "output_type": "execute_result"
    }
   ],
   "source": [
    "soup.find_all(text = 'the prince')"
   ]
  },
  {
   "cell_type": "code",
   "execution_count": 24,
   "metadata": {},
   "outputs": [
    {
     "data": {
      "text/plain": [
       "7"
      ]
     },
     "execution_count": 24,
     "metadata": {},
     "output_type": "execute_result"
    }
   ],
   "source": [
    "len(soup.find_all(text = 'the prince'))"
   ]
  },
  {
   "cell_type": "markdown",
   "metadata": {},
   "source": [
    "Navigating a tree from a shopping website."
   ]
  },
  {
   "cell_type": "code",
   "execution_count": 34,
   "metadata": {},
   "outputs": [
    {
     "name": "stdout",
     "output_type": "stream",
     "text": [
      "\n",
      "\n",
      "<tr><th>\n",
      "Item Title\n",
      "</th><th>\n",
      "Description\n",
      "</th><th>\n",
      "Cost\n",
      "</th><th>\n",
      "Image\n",
      "</th></tr>\n",
      "\n",
      "\n",
      "<tr class=\"gift\" id=\"gift1\"><td>\n",
      "Vegetable Basket\n",
      "</td><td>\n",
      "This vegetable basket is the perfect gift for your health conscious (or overweight) friends!\n",
      "<span class=\"excitingNote\">Now with super-colorful bell peppers!</span>\n",
      "</td><td>\n",
      "$15.00\n",
      "</td><td>\n",
      "<img src=\"../img/gifts/img1.jpg\"/>\n",
      "</td></tr>\n",
      "\n",
      "\n",
      "<tr class=\"gift\" id=\"gift2\"><td>\n",
      "Russian Nesting Dolls\n",
      "</td><td>\n",
      "Hand-painted by trained monkeys, these exquisite dolls are priceless! And by \"priceless,\" we mean \"extremely expensive\"! <span class=\"excitingNote\">8 entire dolls per set! Octuple the presents!</span>\n",
      "</td><td>\n",
      "$10,000.52\n",
      "</td><td>\n",
      "<img src=\"../img/gifts/img2.jpg\"/>\n",
      "</td></tr>\n",
      "\n",
      "\n",
      "<tr class=\"gift\" id=\"gift3\"><td>\n",
      "Fish Painting\n",
      "</td><td>\n",
      "If something seems fishy about this painting, it's because it's a fish! <span class=\"excitingNote\">Also hand-painted by trained monkeys!</span>\n",
      "</td><td>\n",
      "$10,005.00\n",
      "</td><td>\n",
      "<img src=\"../img/gifts/img3.jpg\"/>\n",
      "</td></tr>\n",
      "\n",
      "\n",
      "<tr class=\"gift\" id=\"gift4\"><td>\n",
      "Dead Parrot\n",
      "</td><td>\n",
      "This is an ex-parrot! <span class=\"excitingNote\">Or maybe he's only resting?</span>\n",
      "</td><td>\n",
      "$0.50\n",
      "</td><td>\n",
      "<img src=\"../img/gifts/img4.jpg\"/>\n",
      "</td></tr>\n",
      "\n",
      "\n",
      "<tr class=\"gift\" id=\"gift5\"><td>\n",
      "Mystery Box\n",
      "</td><td>\n",
      "If you love suprises, this mystery box is for you! Do not place on light-colored surfaces. May cause oil staining. <span class=\"excitingNote\">Keep your friends guessing!</span>\n",
      "</td><td>\n",
      "$1.50\n",
      "</td><td>\n",
      "<img src=\"../img/gifts/img6.jpg\"/>\n",
      "</td></tr>\n",
      "\n",
      "\n"
     ]
    }
   ],
   "source": [
    "import requests\n",
    "from bs4 import BeautifulSoup\n",
    "\n",
    "html = requests.get('http://www.pythonscraping.com/pages/page3.html')\n",
    "soup = BeautifulSoup(html.text, 'lxml')\n",
    "\n",
    "for child in soup.find('table', {'id':'giftList'}).children:\n",
    "    print(child)"
   ]
  },
  {
   "cell_type": "code",
   "execution_count": 35,
   "metadata": {},
   "outputs": [],
   "source": [
    "req = requests.get(\"https://www.airbnb.ca/s/Milan--Italy/homes?query=Milan%2C%20Italy&place_id=ChIJlduiODLChkcRUH5mLgJ4BgM&refinement_paths%5B%5D=%2Fhomes&source=mc_search_bar&search_type=pagination&tab_id=home_tab&federated_search_session_id=91124c3b-a7fd-4c02-a4e9-a35aa3e3b448&checkin=2020-04-13&checkout=2020-04-17&section_offset=5&items_offset=0&locale=en&_set_bev_on_new_domain=1585835328_Xju2r%2BlOES2wp0Zt\")"
   ]
  },
  {
   "cell_type": "code",
   "execution_count": 36,
   "metadata": {},
   "outputs": [],
   "source": [
    "soup = BeautifulSoup(req.text, 'lxml')"
   ]
  },
  {
   "cell_type": "code",
   "execution_count": 45,
   "metadata": {},
   "outputs": [
    {
     "name": "stdout",
     "output_type": "stream",
     "text": [
      "Entire condominium4.65 (723)Cozy apt. in San Babila/Duomo area3 guests · 1 bedroom · 2 beds · 1.5 bathsWifi · Kitchen · Heating · WasherRare find · This place is usually booked.Rare find · This place is usually booked.Previous price:$36Discounted price:$32 CAD/nightPrice:$129 CAD total \n",
      "SUPERHOSTEntire apartment4.60 (562)CENTER: SHOPPING/DUOMO Via Montenapoleone3 guests · 1 bedroom · 2 beds · 1 bathWifi · Kitchen · Heating · WasherIncludes cancellation flexibilityRare find · This place is usually booked.Rare find · This place is usually booked.Price:$59 CAD/nightPrice:$236 CAD total \n",
      "SUPERHOSTEntire apartment4.91 (440)CENTER: DUOMO LUXURY Apartment4 guests · 1 bedroom · 2 beds · 1 bathWifi · Kitchen · HeatingIncludes cancellation flexibilityRare find · This place is usually booked.Rare find · This place is usually booked.Previous price:$83Discounted price:$67 CAD/nightPrice:$268 CAD total \n",
      "SUPERHOSTEntire apartment4.79 (579)CENTER: DUOMO Luxury Design2 guests · 1 bedroom · 1 bed · 1 bathWifi · Kitchen · Heating · WasherIncludes cancellation flexibilityRare find · This place is usually booked.Rare find · This place is usually booked.Price:$57 CAD/nightPrice:$228 CAD total \n",
      "Entire apartment4.41 (61)★ Studio for 1 Sant'Ambrogio M2 - Walk everywhere!1 guest · Studio · 1 bed · 1 bathWifi · Kitchen · HeatingIncludes cancellation flexibilityNew lower priceNew lower pricePrevious price:$105Discounted price:$88 CAD/nightPrice:$352 CAD total \n",
      "Entire loftBellissimo Loft di Design Duomo - 2 ospiti4 guests · 1 bedroom · 1 bed · 1 bathKitchen · HeatingIncludes cancellation flexibilityNew lower priceNew lower pricePrevious price:$78Discounted price:$67 CAD/nightPrice:$267 CAD total \n",
      "Entire apartment5.0 (18)BRERA newly renovated apartment in the city center2 guests · Studio · 2 beds · 1 bathWifi · Kitchen · Heating · WasherIncludes cancellation flexibilityPrice:$51 CAD/nightPrice:$205 CAD total \n",
      "SUPERHOSTEntire loft4.83 (219)Cozy Flat in center of Milan\n",
      "Check-in 24 hours3 guests · 1 bedroom · 1 bed · 1 bathWifi · Kitchen · Heating · WasherIncludes cancellation flexibilityNew lower priceNew lower pricePrevious price:$103Discounted price:$69 CAD/nightPrice:$277 CAD total \n",
      "SUPERHOSTEntire apartment4.71 (329)Charming Central Panoramic Penthouse6 guests · 2 bedrooms · 2 beds · 1 bathWifi · Kitchen · Heating · WasherIncludes cancellation flexibilityNew lower priceNew lower pricePrevious price:$89Discounted price:$65 CAD/nightPrice:$258 CAD total \n",
      "Entire apartment5.0 (12)Appartamento Fiera Milano city3 guests · 1 bedroom · 2 beds · 1 bathWifi · Kitchen · Heating · WasherIncludes cancellation flexibilityNew lower priceNew lower pricePrevious price:$74Discounted price:$58 CAD/nightPrice:$232 CAD total \n",
      "SUPERHOSTEntire apartment4.79 (14)Maison Luisa5 guests · 2 bedrooms · 4 beds · 2 bathsWifi · Kitchen · Heating · WasherIncludes cancellation flexibilityPrice:$322 CAD/nightPrice:$1,287 CAD total \n",
      "Entire apartment4.50 (472)“Jjust in time” DUOMO “MiniFlat”3 guests · 1 bedroom · 3 beds · 1.5 bathsWifi · Kitchen · Heating · WasherIncludes cancellation flexibilityPrice:$63 CAD/nightPrice:$253 CAD total \n",
      "Entire apartment4.32 (107)A STONE'S FROM DUOMO6 guests · 1 bedroom · 6 beds · 1 bathWifi · Kitchen · Heating · WasherIncludes cancellation flexibilityNew lower priceNew lower pricePrevious price:$153Discounted price:$102 CAD/nightPrice:$409 CAD total \n",
      "SUPERHOSTEntire loft4.99 (118)The Milky House - your 5 ★ amenities home4 guests · 1 bedroom · 2 beds · 1 bathWifi · Kitchen · Heating · WasherIncludes cancellation flexibilityPrice:$65 CAD/nightPrice:$258 CAD total \n",
      "SUPERHOSTEntire apartment4.76 (287)Romantic ChabbyChic Apartment Milan Central4 guests · 2 bedrooms · 4 beds · 1 bathWifi · Kitchen · Heating · WasherIncludes cancellation flexibilityRare find · This place is usually booked.Rare find · This place is usually booked.Previous price:$90Discounted price:$60 CAD/nightPrice:$239 CAD total \n",
      "Entire apartment4.67 (267)New and lovely flat in Milan Center!2 guests · 1 bedroom · 1 bed · 1 bathWifi · Kitchen · Heating · WasherIncludes cancellation flexibilityPrice:$69 CAD/nightPrice:$277 CAD total \n",
      "SUPERHOSTEntire apartment4.97 (74)\"Little Morandi\"- Fashion District2 guests · 1 bedroom · 1 bed · 1 bathWifi · Kitchen · Heating · WasherIncludes cancellation flexibilityPrice:$76 CAD/nightPrice:$303 CAD total \n",
      "Entire apartment4.78 (68)Milan - Duomo Luxury Apartment II4 guests · 1 bedroom · 2 beds · 1 bathWifi · Kitchen · Heating · WasherIncludes cancellation flexibilityPrice:$77 CAD/nightPrice:$307 CAD total \n",
      "SUPERHOSTEntire apartment4.67 (9)Beautiful 2 bedrooms in the center of Milan6 guests · 2 bedrooms · 3 beds · 2 bathsWifi · Kitchen · Heating · WasherIncludes cancellation flexibilityNew lower priceNew lower pricePrevious price:$93Discounted price:$79 CAD/nightPrice:$314 CAD total \n",
      "SUPERHOSTEntire condominium4.74 (25)New charming + Terrace + Parking4 guests · 1 bedroom · 1 bed · 1 bathWifi · Kitchen · Heating · WasherIncludes cancellation flexibilityNew lower priceNew lower pricePrevious price:$85Discounted price:$73 CAD/nightPrice:$291 CAD total \n"
     ]
    }
   ],
   "source": [
    "for child in soup.find_all('div', itemprop = 'itemListElement'):\n",
    "    print(child.text)"
   ]
  },
  {
   "cell_type": "code",
   "execution_count": null,
   "metadata": {},
   "outputs": [],
   "source": []
  }
 ],
 "metadata": {
  "kernelspec": {
   "display_name": "Python 3",
   "language": "python",
   "name": "python3"
  },
  "language_info": {
   "codemirror_mode": {
    "name": "ipython",
    "version": 3
   },
   "file_extension": ".py",
   "mimetype": "text/x-python",
   "name": "python",
   "nbconvert_exporter": "python",
   "pygments_lexer": "ipython3",
   "version": "3.6.5"
  }
 },
 "nbformat": 4,
 "nbformat_minor": 2
}
